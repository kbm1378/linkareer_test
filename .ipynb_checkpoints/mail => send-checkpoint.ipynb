{
 "cells": [
  {
   "cell_type": "code",
   "execution_count": 2,
   "metadata": {
    "collapsed": true
   },
   "outputs": [],
   "source": [
    "#!/usr/bin/python\n",
    "# -*- coding:utf-8 -*-\n",
    "\n",
    "import smtplib\n",
    "from email.MIMEMultipart import MIMEMultipart\n",
    "from email.MIMEBase import MIMEBase\n",
    "from email.MIMEText import MIMEText\n",
    "from email import Encoders\n",
    "from email import Utils\n",
    "from email.header import Header\n",
    "import os\n"
   ]
  },
  {
   "cell_type": "code",
   "execution_count": 3,
   "metadata": {
    "collapsed": false
   },
   "outputs": [
    {
     "name": "stdout",
     "output_type": "stream",
     "text": [
      "Program Ready\n",
      "----------------------\n",
      "[2016-04-08 09:53:47.577219] Sending email to linkareer@naver.com...\n"
     ]
    },
    {
     "ename": "NameError",
     "evalue": "global name 'attach_file' is not defined",
     "output_type": "error",
     "traceback": [
      "\u001b[0;31m---------------------------------------------------------------------------\u001b[0m",
      "\u001b[0;31mNameError\u001b[0m                                 Traceback (most recent call last)",
      "\u001b[0;32m<ipython-input-3-e7ad384b34f8>\u001b[0m in \u001b[0;36m<module>\u001b[0;34m()\u001b[0m\n\u001b[1;32m     67\u001b[0m \u001b[0;34m\u001b[0m\u001b[0m\n\u001b[1;32m     68\u001b[0m \u001b[0;32mif\u001b[0m \u001b[0m__name__\u001b[0m \u001b[0;34m==\u001b[0m \u001b[0;34m\"__main__\"\u001b[0m\u001b[0;34m:\u001b[0m\u001b[0;34m\u001b[0m\u001b[0m\n\u001b[0;32m---> 69\u001b[0;31m     \u001b[0mmainLoop\u001b[0m\u001b[0;34m(\u001b[0m\u001b[0;34m)\u001b[0m\u001b[0;34m\u001b[0m\u001b[0m\n\u001b[0m\u001b[1;32m     70\u001b[0m \u001b[0;34m\u001b[0m\u001b[0m\n",
      "\u001b[0;32m<ipython-input-3-e7ad384b34f8>\u001b[0m in \u001b[0;36mmainLoop\u001b[0;34m()\u001b[0m\n\u001b[1;32m     59\u001b[0m             \u001b[0;32mcontinue\u001b[0m\u001b[0;34m\u001b[0m\u001b[0m\n\u001b[1;32m     60\u001b[0m         \u001b[0;32mprint\u001b[0m \u001b[0;34m\"[\"\u001b[0m \u001b[0;34m+\u001b[0m \u001b[0mstr\u001b[0m\u001b[0;34m(\u001b[0m\u001b[0mdatetime\u001b[0m\u001b[0;34m.\u001b[0m\u001b[0mdatetime\u001b[0m\u001b[0;34m.\u001b[0m\u001b[0mnow\u001b[0m\u001b[0;34m(\u001b[0m\u001b[0;34m)\u001b[0m\u001b[0;34m)\u001b[0m \u001b[0;34m+\u001b[0m \u001b[0;34m\"] Sending email to \"\u001b[0m \u001b[0;34m+\u001b[0m \u001b[0memail\u001b[0m \u001b[0;34m+\u001b[0m \u001b[0;34m\"...\"\u001b[0m\u001b[0;34m\u001b[0m\u001b[0m\n\u001b[0;32m---> 61\u001b[0;31m         \u001b[0msend_gmail\u001b[0m\u001b[0;34m(\u001b[0m\u001b[0memail\u001b[0m\u001b[0;34m,\u001b[0m\u001b[0mtitle\u001b[0m\u001b[0;34m,\u001b[0m\u001b[0mmessage\u001b[0m\u001b[0;34m,\u001b[0m\u001b[0mhtml\u001b[0m\u001b[0;34m,\u001b[0m\u001b[0mattach_file\u001b[0m\u001b[0;34m)\u001b[0m\u001b[0;34m\u001b[0m\u001b[0m\n\u001b[0m\u001b[1;32m     62\u001b[0m         \u001b[0;32mprint\u001b[0m \u001b[0;34m\"[\"\u001b[0m \u001b[0;34m+\u001b[0m \u001b[0mstr\u001b[0m\u001b[0;34m(\u001b[0m\u001b[0mdatetime\u001b[0m\u001b[0;34m.\u001b[0m\u001b[0mdatetime\u001b[0m\u001b[0;34m.\u001b[0m\u001b[0mnow\u001b[0m\u001b[0;34m(\u001b[0m\u001b[0;34m)\u001b[0m\u001b[0;34m)\u001b[0m \u001b[0;34m+\u001b[0m \u001b[0;34m\"] Complete... Waiting for \"\u001b[0m \u001b[0;34m+\u001b[0m \u001b[0mstr\u001b[0m\u001b[0;34m(\u001b[0m\u001b[0mrand\u001b[0m\u001b[0;34m)\u001b[0m \u001b[0;34m+\u001b[0m\u001b[0;34m\" seconds.\"\u001b[0m\u001b[0;34m\u001b[0m\u001b[0m\n\u001b[1;32m     63\u001b[0m         \u001b[0mtime\u001b[0m\u001b[0;34m.\u001b[0m\u001b[0msleep\u001b[0m\u001b[0;34m(\u001b[0m\u001b[0mrand\u001b[0m\u001b[0;34m)\u001b[0m\u001b[0;34m\u001b[0m\u001b[0m\n",
      "\u001b[0;31mNameError\u001b[0m: global name 'attach_file' is not defined"
     ]
    }
   ],
   "source": [
    "#http://blog.readiz.com/51#.VwZjF2O8Dxc\n",
    "# -*- coding:utf-8 -*-\n",
    "import os, smtplib\n",
    "from email.MIMEMultipart import MIMEMultipart\n",
    "from email.MIMEBase import MIMEBase\n",
    "from email.MIMEText import MIMEText\n",
    "from email.header import Header\n",
    "from email import Encoders\n",
    "import time\n",
    "import datetime\n",
    "import random\n",
    "\n",
    "gmail_username=\"스펙업 대외활동 추천\"\n",
    "gmail_user=\"linkareer@naver.com\"\n",
    "gmail_pwd=\"specupad1004\"\n",
    "\n",
    "\n",
    "def send_gmail(to, subject, text, html, attach):\n",
    "    msg=MIMEMultipart('alternative')\n",
    "    msg['From']=gmail_username\n",
    "    msg['To']=to\n",
    "    msg['Subject']=Header(subject,'utf-8') # 제목 인코딩\n",
    "    msg.attach(MIMEText(text, 'plain', 'utf-8')) # 내용 인코딩\n",
    "    msg.attach(MIMEText(html, 'html', 'utf-8')) # 내용 인코딩 2\n",
    "    \n",
    "    # 아래 코드는 첨부파일이 있을 경우에만 주석처리 빼시면 됩니다.\n",
    "    #part=MIMEBase('application','octet-stream')\n",
    "    #part.set_payload(open(attach, 'rb').read())\n",
    "    #Encoders.encode_base64(part)\n",
    "    #part.add_header('Content-Disposition','attachment; filename=\"%s\"' % os.path.basename(attach))\n",
    "    #msg.attach(part)\n",
    "    \n",
    "    mailServer=smtplib.SMTP(\"smtp.naver.com\",587)\n",
    "    mailServer.ehlo()\n",
    "    mailServer.starttls()\n",
    "    mailServer.ehlo()\n",
    "    mailServer.login(gmail_user,gmail_pwd)\n",
    "    mailServer.sendmail(gmail_user, to, msg.as_string())\n",
    "    mailServer.close()\n",
    "\n",
    "\n",
    "def mainLoop():\n",
    "    message = \"hi\"\n",
    "    f = open(\"data/mail/a56349@hanmail.net.html\", \"r\")   #<------ 메일 내용의 HTML버전이 들어있는 파일입니다.\n",
    "    html = f.read()\n",
    "    f.close()\n",
    "    \n",
    "    title=\"테스트123\"\n",
    "    \n",
    "\n",
    "    print \"Program Ready\"\n",
    "    print \"----------------------\"\n",
    "    #f = open(\"list.txt\", \"r\")\n",
    "    #emails = f.readlines()\n",
    "    emails = [\"linkareer@naver.com\", \"kbm1378@naver.com\"]\n",
    "    for email in emails:\n",
    "        rand = random.randrange(1,5)       # Set range of the waiting time.\n",
    "        email = email.strip()              # Removing White spaces.\n",
    "        if email == \"\" :\n",
    "            continue\n",
    "        print \"[\" + str(datetime.datetime.now()) + \"] Sending email to \" + email + \"...\"\n",
    "        send_gmail(email,title,message,html,attach_file)\n",
    "        print \"[\" + str(datetime.datetime.now()) + \"] Complete... Waiting for \" + str(rand) +\" seconds.\"\n",
    "        time.sleep(rand)\n",
    "\n",
    "    print \"Mails have just been sent. The program is going to end.\" \n",
    "\n",
    "\n",
    "if __name__ == \"__main__\":\n",
    "    mainLoop()\n",
    "    "
   ]
  },
  {
   "cell_type": "code",
   "execution_count": null,
   "metadata": {
    "collapsed": true
   },
   "outputs": [],
   "source": []
  }
 ],
 "metadata": {
  "kernelspec": {
   "display_name": "Python 2",
   "language": "python",
   "name": "python2"
  },
  "language_info": {
   "codemirror_mode": {
    "name": "ipython",
    "version": 2
   },
   "file_extension": ".py",
   "mimetype": "text/x-python",
   "name": "python",
   "nbconvert_exporter": "python",
   "pygments_lexer": "ipython2",
   "version": "2.7.10"
  }
 },
 "nbformat": 4,
 "nbformat_minor": 0
}
