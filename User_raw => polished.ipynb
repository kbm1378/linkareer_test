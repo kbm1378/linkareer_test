{
 "cells": [
  {
   "cell_type": "code",
   "execution_count": 7,
   "metadata": {
    "collapsed": true
   },
   "outputs": [],
   "source": [
    "# !/usr/bin/python\n",
    "# -*- coding: utf-8\n",
    "from __future__ import division, unicode_literals\n",
    "\n",
    "%matplotlib inline\n",
    "# http://matplotlib.org/users/pyplot_tutorial.html\n",
    "import matplotlib.pyplot as plt\n",
    "import numpy as np\n",
    "from pandas import Series, DataFrame\n",
    "import pandas as pd\n",
    "\n",
    "# http://nbviewer.ipython.org/\n",
    "import xlsxwriter\n",
    "from pandas import ExcelWriter\n",
    "import time\n",
    "import datetime\n",
    "from datetime import timedelta\n",
    "import operator\n",
    "import re\n",
    "\n"
   ]
  },
  {
   "cell_type": "code",
   "execution_count": 8,
   "metadata": {
    "collapsed": false
   },
   "outputs": [],
   "source": [
    "file_name =\"data/user_raw.xlsx\"\n",
    "xls = pd.ExcelFile(file_name)\n",
    "dt_raw = xls.parse('sheet1')\n",
    "\n",
    "dt_raw= dt_raw.reindex(dt_raw.index.drop(0))\n",
    "#dt_act.index = dt_act['활동명']\n",
    "#del dt_act['활동명']"
   ]
  },
  {
   "cell_type": "code",
   "execution_count": 9,
   "metadata": {
    "collapsed": false
   },
   "outputs": [],
   "source": [
    "list_benefit_all = [u'(\\uc9c0\\uc6d0 \\ud61c\\ud0dd) \\ud65c\\ub3d9\\ube44 \\uc9c0\\uae09',\n",
    " u'(\\uc9c0\\uc6d0 \\ud61c\\ud0dd) \\uc790\\uc0ac\\uc81c\\ud488 \\ubb34\\ub8cc \\uc9c0\\uae09 (ex: \\ubdf0\\ud2f0 \\uae30\\uc5c5 \\ud654\\uc7a5\\ud488 \\uc0d8\\ud50c \\uc9c0\\uae09/\\uc758\\ub958 \\uae30\\uc5c5 \\uc637 \\ubb34\\ub8cc \\uc9c0\\uae09 \\ub4f1)',\n",
    " u'(\\uad50\\uc721 \\ud61c\\ud0dd) \\uc2e4\\ubb34 \\uad50\\uc721 \\uc81c\\uacf5',\n",
    " u'(\\uad50\\uc721 \\ud61c\\ud0dd) \\uc804\\ubb38\\uac00/\\uc2e4\\ubb34\\uc790 \\uba58\\ud1a0\\ub9c1',\n",
    " u'(\\uacbd\\ud5d8 \\ud61c\\ud0dd) \\ud589\\uc0ac \\ucc38\\uc5ec \\uae30\\ud68c',\n",
    " u'(\\uacbd\\ud5d8 \\ud61c\\ud0dd) \\ud65c\\ub3d9\\uc790\\uac04\\uc758 \\uad50\\ub958 \\uae30\\ud68c \\uc81c\\uacf5(\\ub2e8\\ud569\\ub300\\ud68c/\\uc6cc\\ud06c\\uc0f5/MT \\ub4f1)',\n",
    " u'(\\uc2a4\\ud399 \\ud61c\\ud0dd) \\uc218\\ub8cc\\uc99d \\ubc0f \\uc778\\uc99d\\uc11c \\uc81c\\uacf5',\n",
    " u'(\\uc2a4\\ud399 \\ud61c\\ud0dd) \\uc785\\uc0ac\\uc2dc \\uac00\\uc0b0\\uc810 \\uc81c\\uacf5/\\uc778\\ud134\\uc2ed \\uae30\\ud68c \\uc81c\\uacf5 \\uc81c\\uacf5',\n",
    " u'(\\uc2a4\\ud399 \\ud61c\\ud0dd) \\uc784\\uc9c1\\uc6d0 \\ub9cc\\ub0a8 \\uae30\\ud68c \\uc81c\\uacf5']\n",
    "\n",
    "list_interest_all =['문화/역사', '여행/호텔/항공','정치/사회', '교육',\n",
    "                    '콘텐츠/엔터테인먼트', '디자인/사진/예술/영상', '뷰티/미용/화장품', '환경/에너지',\n",
    "                    '과학/공학/기술/IT', '의료/헬스/체육', '미디어/커뮤니케이션', '경영/컨설팅/경제/금융',\n",
    "                    '요리/음식', '창업', '자기계발(독서/발표/취미)']\n",
    "\n",
    "list_industry_all =['서비스업', '', '제조/화학', '', '의료/제약/복지', '', '유통/무역/운송', '','교육업','',\n",
    "                    '건설업', '','IT/웹/통신','', '미디어/디자인', '','은행/금융', '','기관/협회','']"
   ]
  },
  {
   "cell_type": "code",
   "execution_count": 10,
   "metadata": {
    "collapsed": false
   },
   "outputs": [],
   "source": [
    "\"\"\"\n",
    "    b1 활동비\n",
    "    b2 자사제품\n",
    "    b3 실무교육\n",
    "    b4 전문가/실무자 멘토링\n",
    "    b5 행사참여\n",
    "    b6 활동자간 교류\n",
    "    b7 수료증 및 인증서\n",
    "    b8 입사시 가산점\n",
    "    b9 임직원 만남\n",
    "\"\"\"\n",
    "\n",
    "def user_by_persona(persona):\n",
    "    dt_result = DataFrame()\n",
    "    dt_result = dt_result.append([[\"email\", \"persona\", \"start\", \"end\", \"region\", \"category\", \n",
    "                               \"i1\",\"i2\",\"i3\",\"i4\",\"i5\",\"i6\",\"i7\",\"i8\",\"i9\",\"i10\",\"i11\",\"i12\",\"i13\",\"i14\",\"i15\",\"i16\",\n",
    "                               \"b1\", \"b2\", \"b3\",  \"b4\", \"b5\", \"b6\", \"b7\", \"b8\", \"b9\",\n",
    "                               \"organization\", \"d1\",\"d2\",\"d3\",\"d4\",\"d5\",\"d6\",\"d7\",\"d8\",\"d9\",\"d10\"]])\n",
    "    for i in range (1, dt_raw.index.size+1):\n",
    "        if(dt_raw['persona'][i] in persona):\n",
    "            result_code = [dt_raw['email'][i], dt_raw['persona'][i]]\n",
    "\n",
    "\n",
    "            if(type(dt_raw['time_start'][i])==float): result_code.append(datetime.date(2000,1,1))\n",
    "            else : result_code.append(dt_raw['time_start'][i])\n",
    "            \n",
    "            if(type(dt_raw['time_end'][i])==float): result_code.append(datetime.date(2100,12,31))\n",
    "            else : result_code.append(dt_raw['time_end'][i])\n",
    "                \n",
    "                \n",
    "            result_code.append(dt_raw['region'][i])\n",
    "            result_code.append(dt_raw['category'][i])\n",
    "            list_benefit = []\n",
    "            list_interest =[]\n",
    "            list_industries = [] \n",
    "\n",
    "            if(type(dt_raw['interests'][i])==float): \n",
    "                list_interest = list_interest_all\n",
    "            else: \n",
    "                list_interest = dt_raw['interests'][i].split(\", \")\n",
    "            for j in range(0, 16):\n",
    "                if(j<len(list_interest)):result_code.append(list_interest[j])\n",
    "                else : result_code.append(\"-\")\n",
    "\n",
    "            if(type(dt_raw['benefit'][i])==float): list_benefit=list_benefit_all\n",
    "            else: list_benefit = dt_raw['benefit'][i].split(\", \")\n",
    "            for a in list_benefit_all :\n",
    "                if (a in list_benefit) : \n",
    "                    result_code.append(\"O\")\n",
    "                else : result_code.append(\"X\")\n",
    "\n",
    "\n",
    "            result_code.append(dt_raw['companies'][i])\n",
    "\n",
    "            if(type(dt_raw['industries'][i])==float): \n",
    "                list_industries = list_industry_all\n",
    "            else: \n",
    "                list_industries = re.split(\"\\), | \\(\", dt_raw['industries'][i])\n",
    "            for j in range(0, 20):\n",
    "                if(j<len(list_industries)) : \n",
    "                    if(j%2==0): result_code.append(list_industries[j])\n",
    "                else : \n",
    "                    if(j%2==0): result_code.append(\"-\")\n",
    "\n",
    "            dt_result = dt_result.append([result_code])\n",
    "            \n",
    "    return dt_result"
   ]
  },
  {
   "cell_type": "code",
   "execution_count": 11,
   "metadata": {
    "collapsed": false
   },
   "outputs": [
    {
     "name": "stdout",
     "output_type": "stream",
     "text": [
      "전공과 관련한 실무 경험과 교육, 역량 쌓기.\n",
      "스펙과 무관한 다양한 경험, 새로운 사람들 만나보기.\n",
      "취업에 도움되는 스펙 쌓기.\n"
     ]
    },
    {
     "data": {
      "text/plain": [
       "[]"
      ]
     },
     "execution_count": 11,
     "metadata": {},
     "output_type": "execute_result"
    }
   ],
   "source": [
    "list_persona = []\n",
    "list_etc = []\n",
    "for i in range(1, dt_raw.index.size+1):\n",
    "    if not ( dt_raw['persona'][i] in list_persona):\n",
    "        list_persona.append(dt_raw['persona'][i])\n",
    "for l in list_persona:\n",
    "    print l\n",
    "    list_etc.append(l)\n",
    "    \n",
    "list_etc.remove(\"스펙과 무관한 다양한 경험, 새로운 사람들 만나보기.\")\n",
    "list_etc.remove(\"전공과 관련한 실무 경험과 교육, 역량 쌓기.\")\n",
    "list_etc.remove(\"취업에 도움되는 스펙 쌓기.\")\n",
    "list_etc"
   ]
  },
  {
   "cell_type": "code",
   "execution_count": 6,
   "metadata": {
    "collapsed": false
   },
   "outputs": [],
   "source": [
    "writer = ExcelWriter('data/user_polished.xlsx')\n",
    "all_per = user_by_persona(list_persona)\n",
    "per1 = user_by_persona([\"스펙과 무관한 다양한 경험, 새로운 사람들 만나보기.\"])\n",
    "per2 = user_by_persona([\"전공과 관련한 실무 경험과 교육, 역량 쌓기.\"])\n",
    "per3 = user_by_persona([\"취업에 도움되는 스펙 쌓기.\"])\n",
    "etc = user_by_persona(list_etc)\n",
    "\n",
    "all_per.to_excel(writer, sheet_name='All', engine='xlsxwriter')\n",
    "per1.to_excel(writer, sheet_name='Per1', engine='xlsxwriter')\n",
    "per2.to_excel(writer, sheet_name='Per2', engine='xlsxwriter')\n",
    "per3.to_excel(writer, sheet_name='Per3', engine='xlsxwriter')\n",
    "etc.to_excel(writer, sheet_name='Etc', engine='xlsxwriter')\n",
    "writer.save()"
   ]
  },
  {
   "cell_type": "code",
   "execution_count": 14,
   "metadata": {
    "collapsed": false
   },
   "outputs": [
    {
     "name": "stdout",
     "output_type": "stream",
     "text": [
      "서포터즈\n",
      "해외탐방\n",
      "동아리\n",
      "멘토링\n",
      "강연\n"
     ]
    }
   ],
   "source": [
    "list_category=dt_raw['category'][i].split(\", \")\n",
    "for c in list_category:\n",
    "    print c"
   ]
  },
  {
   "cell_type": "code",
   "execution_count": 15,
   "metadata": {
    "collapsed": false
   },
   "outputs": [
    {
     "name": "stdout",
     "output_type": "stream",
     "text": [
      "1\n",
      "2\n",
      "3\n"
     ]
    }
   ],
   "source": [
    "li = [1,2,3]\n",
    "for l in li :\n",
    "    print l"
   ]
  },
  {
   "cell_type": "code",
   "execution_count": null,
   "metadata": {
    "collapsed": true
   },
   "outputs": [],
   "source": []
  }
 ],
 "metadata": {
  "kernelspec": {
   "display_name": "Python 2",
   "language": "python",
   "name": "python2"
  },
  "language_info": {
   "codemirror_mode": {
    "name": "ipython",
    "version": 2
   },
   "file_extension": ".py",
   "mimetype": "text/x-python",
   "name": "python",
   "nbconvert_exporter": "python",
   "pygments_lexer": "ipython2",
   "version": "2.7.10"
  }
 },
 "nbformat": 4,
 "nbformat_minor": 0
}
